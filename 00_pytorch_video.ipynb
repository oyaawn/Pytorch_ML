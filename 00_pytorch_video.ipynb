{
  "cells": [
    {
      "cell_type": "code",
      "execution_count": 2,
      "metadata": {
        "id": "cVt_CBYKMNxB"
      },
      "outputs": [],
      "source": [
        "import torch"
      ]
    },
    {
      "cell_type": "markdown",
      "metadata": {
        "id": "oMOsDV4Lg6lp"
      },
      "source": [
        "import torch\n",
        "print(torch.__version__)"
      ]
    },
    {
      "cell_type": "code",
      "execution_count": 3,
      "metadata": {
        "colab": {
          "base_uri": "https://localhost:8080/"
        },
        "id": "XwP7-8ncjfTp",
        "outputId": "73ee4e79-d6bf-44cb-e57c-db470e098bcd"
      },
      "outputs": [
        {
          "data": {
            "text/plain": [
              "tensor(7)"
            ]
          },
          "execution_count": 3,
          "metadata": {},
          "output_type": "execute_result"
        }
      ],
      "source": [
        "#scalar\n",
        "scalar= torch.tensor(7)\n",
        "scalar"
      ]
    },
    {
      "cell_type": "markdown",
      "metadata": {
        "id": "RKYFABx400wM"
      },
      "source": [
        "scalar.item()"
      ]
    },
    {
      "cell_type": "code",
      "execution_count": 24,
      "metadata": {
        "colab": {
          "base_uri": "https://localhost:8080/"
        },
        "id": "lOgGbBn51Xvj",
        "outputId": "d652022b-467f-42c0-9258-23117b8a36da"
      },
      "outputs": [
        {
          "data": {
            "text/plain": [
              "tensor([[1, 2, 3],\n",
              "        [2, 3, 4],\n",
              "        [3, 4, 5]])"
            ]
          },
          "execution_count": 24,
          "metadata": {},
          "output_type": "execute_result"
        }
      ],
      "source": [
        "#vector\n",
        "vector= torch.tensor([[1,2,3],[2,3,4],[3,4,5]])\n",
        "vector"
      ]
    },
    {
      "cell_type": "code",
      "execution_count": 29,
      "metadata": {
        "colab": {
          "base_uri": "https://localhost:8080/"
        },
        "id": "tSqvuIJO2CK6",
        "outputId": "d1f3bb03-b9bd-4d02-936b-007866fa813e"
      },
      "outputs": [
        {
          "data": {
            "text/plain": [
              "torch.Size([3, 3])"
            ]
          },
          "execution_count": 29,
          "metadata": {},
          "output_type": "execute_result"
        }
      ],
      "source": [
        "vector.shape"
      ]
    },
    {
      "cell_type": "code",
      "execution_count": 6,
      "metadata": {
        "colab": {
          "base_uri": "https://localhost:8080/"
        },
        "id": "JyyCnF-J2Ns9",
        "outputId": "553f9470-d44c-4a78-b1bf-4f054d4060ea"
      },
      "outputs": [
        {
          "data": {
            "text/plain": [
              "tensor([[1, 2],\n",
              "        [3, 4]])"
            ]
          },
          "execution_count": 6,
          "metadata": {},
          "output_type": "execute_result"
        }
      ],
      "source": [
        "#MATRIX\n",
        "#REASON IT IS CAPITALED WILL BE MENTIONED LATER TO ME\n",
        "\n",
        "MATRIX= torch.tensor([[1,2],[3,4]])\n",
        "MATRIX"
      ]
    },
    {
      "cell_type": "code",
      "execution_count": 7,
      "metadata": {
        "colab": {
          "base_uri": "https://localhost:8080/"
        },
        "id": "6UcmK3Qm3BmU",
        "outputId": "6c13d5e6-6cf2-41bc-c3dd-692689190ae8"
      },
      "outputs": [
        {
          "data": {
            "text/plain": [
              "2"
            ]
          },
          "execution_count": 7,
          "metadata": {},
          "output_type": "execute_result"
        }
      ],
      "source": [
        "MATRIX.ndim"
      ]
    },
    {
      "cell_type": "code",
      "execution_count": 8,
      "metadata": {
        "colab": {
          "base_uri": "https://localhost:8080/"
        },
        "id": "rq6IkVTd3LUc",
        "outputId": "c94e6c6f-0e3b-4882-d98c-62507a348f64"
      },
      "outputs": [
        {
          "data": {
            "text/plain": [
              "tensor([3, 4])"
            ]
          },
          "execution_count": 8,
          "metadata": {},
          "output_type": "execute_result"
        }
      ],
      "source": [
        "MATRIX[1]"
      ]
    },
    {
      "cell_type": "code",
      "execution_count": 9,
      "metadata": {
        "colab": {
          "base_uri": "https://localhost:8080/"
        },
        "id": "inUKeI0VNCWa",
        "outputId": "63f315dd-f36c-47c0-856b-799e6da26f95"
      },
      "outputs": [
        {
          "data": {
            "text/plain": [
              "tensor([[0.0571, 0.9252, 0.6623, 0.6578],\n",
              "        [0.9179, 0.9399, 0.2261, 0.1501]])"
            ]
          },
          "execution_count": 9,
          "metadata": {},
          "output_type": "execute_result"
        }
      ],
      "source": [
        "#random tensors\n",
        "randomTensor = torch.rand(2,4)\n",
        "randomTensor\n"
      ]
    },
    {
      "cell_type": "code",
      "execution_count": 10,
      "metadata": {
        "colab": {
          "base_uri": "https://localhost:8080/"
        },
        "id": "tG9IwMMcmDlr",
        "outputId": "edf9c518-03f2-4198-dbb5-6c1d75e375b2"
      },
      "outputs": [
        {
          "data": {
            "text/plain": [
              "(torch.Size([3, 224, 224]), 3)"
            ]
          },
          "execution_count": 10,
          "metadata": {},
          "output_type": "execute_result"
        }
      ],
      "source": [
        "#random image tensors\n",
        "randomImageTensor= torch.rand(size=(3,224,224))\n",
        "randomImageTensor.shape,randomImageTensor.ndim"
      ]
    },
    {
      "cell_type": "code",
      "execution_count": 11,
      "metadata": {
        "colab": {
          "base_uri": "https://localhost:8080/"
        },
        "id": "aE6lSThDmaQp",
        "outputId": "097cb6da-ee38-4477-8043-c8eff9c36db9"
      },
      "outputs": [
        {
          "data": {
            "text/plain": [
              "tensor([[0., 0., 0., 0.],\n",
              "        [0., 0., 0., 0.],\n",
              "        [0., 0., 0., 0.]])"
            ]
          },
          "execution_count": 11,
          "metadata": {},
          "output_type": "execute_result"
        }
      ],
      "source": [
        "# creating a tensor of all zeros\n",
        "\n",
        "zeros = torch.zeros(size=(3,4))\n",
        "zeros"
      ]
    },
    {
      "cell_type": "code",
      "execution_count": 12,
      "metadata": {
        "colab": {
          "base_uri": "https://localhost:8080/"
        },
        "id": "PMIT9nWgm9i9",
        "outputId": "63d65055-3b45-4aaf-e412-93e512619816"
      },
      "outputs": [
        {
          "data": {
            "text/plain": [
              "tensor([[1., 1., 1., 1.],\n",
              "        [1., 1., 1., 1.],\n",
              "        [1., 1., 1., 1.]])"
            ]
          },
          "execution_count": 12,
          "metadata": {},
          "output_type": "execute_result"
        }
      ],
      "source": [
        "#creating a tensor of all ones\n",
        "\n",
        "ones = torch.ones(size=(3,4))\n",
        "ones"
      ]
    },
    {
      "cell_type": "code",
      "execution_count": 13,
      "metadata": {
        "colab": {
          "base_uri": "https://localhost:8080/"
        },
        "id": "gBtVaGKHnIYH",
        "outputId": "dce0e1de-3f9a-48cb-eaf1-0f0834bb78c9"
      },
      "outputs": [
        {
          "data": {
            "text/plain": [
              "torch.float32"
            ]
          },
          "execution_count": 13,
          "metadata": {},
          "output_type": "execute_result"
        }
      ],
      "source": [
        "ones.dtype"
      ]
    },
    {
      "cell_type": "code",
      "execution_count": 14,
      "metadata": {
        "colab": {
          "base_uri": "https://localhost:8080/"
        },
        "id": "EZbFS4Z7nLbc",
        "outputId": "9fd40c9a-7494-401c-ee38-c49edc455033"
      },
      "outputs": [
        {
          "data": {
            "text/plain": [
              "torch.float32"
            ]
          },
          "execution_count": 14,
          "metadata": {},
          "output_type": "execute_result"
        }
      ],
      "source": [
        "zeros.dtype"
      ]
    },
    {
      "cell_type": "code",
      "execution_count": 15,
      "metadata": {
        "colab": {
          "base_uri": "https://localhost:8080/"
        },
        "id": "_bZZyFpandxf",
        "outputId": "d348c0eb-4ee7-4553-abdd-90fcd08aee66"
      },
      "outputs": [
        {
          "data": {
            "text/plain": [
              "tensor([ 0, 15, 30, 45, 60, 75, 90])"
            ]
          },
          "execution_count": 15,
          "metadata": {},
          "output_type": "execute_result"
        }
      ],
      "source": [
        "#creating a range of tensors\n",
        "\n",
        "a=torch.arange(0,10)\n",
        "b= torch.arange(start=0,end=100, step=15)\n",
        "b"
      ]
    },
    {
      "cell_type": "code",
      "execution_count": 16,
      "metadata": {
        "colab": {
          "base_uri": "https://localhost:8080/"
        },
        "id": "LYzQc_HaoM08",
        "outputId": "e1e23d7b-f3e6-4aec-fb80-57f3a843873b"
      },
      "outputs": [
        {
          "data": {
            "text/plain": [
              "tensor([0, 0, 0, 0, 0, 0, 0])"
            ]
          },
          "execution_count": 16,
          "metadata": {},
          "output_type": "execute_result"
        }
      ],
      "source": [
        "#creating tensors like\n",
        "tenZeros= torch.zeros_like(input=b)\n",
        "tenZeros"
      ]
    },
    {
      "cell_type": "markdown",
      "metadata": {
        "id": "vy0RoQcvpeBy"
      },
      "source": [
        "**Tensor Datatypes**"
      ]
    },
    {
      "cell_type": "code",
      "execution_count": 17,
      "metadata": {
        "colab": {
          "base_uri": "https://localhost:8080/"
        },
        "id": "W6cypf-6pYbh",
        "outputId": "525c7d66-a20f-4e53-d51a-6d8315037189"
      },
      "outputs": [
        {
          "data": {
            "text/plain": [
              "torch.float32"
            ]
          },
          "execution_count": 17,
          "metadata": {},
          "output_type": "execute_result"
        }
      ],
      "source": [
        "x=torch.tensor([3.0,4.0,5.0],\n",
        "               dtype=None)\n",
        "x.dtype"
      ]
    },
    {
      "cell_type": "markdown",
      "metadata": {
        "id": "dzpXhd9rp8Kf"
      },
      "source": [
        "**Important parameters while creating a tensor**"
      ]
    },
    {
      "cell_type": "code",
      "execution_count": 18,
      "metadata": {
        "colab": {
          "base_uri": "https://localhost:8080/"
        },
        "id": "JwW791jTp6iW",
        "outputId": "0daae97e-dd76-4103-b102-f34862aa8f04"
      },
      "outputs": [
        {
          "data": {
            "text/plain": [
              "tensor([3., 6., 9.])"
            ]
          },
          "execution_count": 18,
          "metadata": {},
          "output_type": "execute_result"
        }
      ],
      "source": [
        "x= torch.tensor([3.0,6.0,9.0],\n",
        "                dtype=None, #torch.float16 = torch.half\n",
        "                device=None,\n",
        "                requires_grad=False)\n",
        "x"
      ]
    },
    {
      "cell_type": "code",
      "execution_count": 19,
      "metadata": {
        "colab": {
          "base_uri": "https://localhost:8080/"
        },
        "id": "pZrqNjwhr4Go",
        "outputId": "48f37a8b-ab57-4ed0-fccc-97b257e7d814"
      },
      "outputs": [
        {
          "data": {
            "text/plain": [
              "torch.float32"
            ]
          },
          "execution_count": 19,
          "metadata": {},
          "output_type": "execute_result"
        }
      ],
      "source": [
        "x.dtype"
      ]
    },
    {
      "cell_type": "code",
      "execution_count": 20,
      "metadata": {
        "colab": {
          "base_uri": "https://localhost:8080/"
        },
        "id": "WLHoNZDVr7no",
        "outputId": "529db0aa-4203-4521-bd7b-504987e9b9ce"
      },
      "outputs": [
        {
          "data": {
            "text/plain": [
              "torch.float16"
            ]
          },
          "execution_count": 20,
          "metadata": {},
          "output_type": "execute_result"
        }
      ],
      "source": [
        "y= x.type(torch.float16)\n",
        "y.dtype"
      ]
    },
    {
      "cell_type": "code",
      "execution_count": 21,
      "metadata": {
        "colab": {
          "base_uri": "https://localhost:8080/"
        },
        "id": "CNbArZg-sQQM",
        "outputId": "458d08b4-99d9-4559-df67-e71ec3a394b8"
      },
      "outputs": [
        {
          "data": {
            "text/plain": [
              "tensor([ 9., 36., 81.])"
            ]
          },
          "execution_count": 21,
          "metadata": {},
          "output_type": "execute_result"
        }
      ],
      "source": [
        "y*x"
      ]
    },
    {
      "cell_type": "code",
      "execution_count": 31,
      "metadata": {
        "id": "-tODHRMbswlF"
      },
      "outputs": [
        {
          "name": "stdout",
          "output_type": "stream",
          "text": [
            "tensor([3., 6., 9.], dtype=torch.float16)\n",
            "Datatype of tensor: torch.float16\n",
            "Shape of the tensor is: torch.Size([3])\n",
            "Device tensor is stored on: cpu\n"
          ]
        }
      ],
      "source": [
        "#find out details of some tensor\n",
        "print(y)\n",
        "print(f\"Datatype of tensor: {y.dtype}\")\n",
        "print(f\"Shape of the tensor is: {y.shape}\")\n",
        "print(f\"Device tensor is stored on: {y.device}\")"
      ]
    },
    {
      "cell_type": "code",
      "execution_count": null,
      "metadata": {},
      "outputs": [],
      "source": [
        "#manipulating tensors // tensor operations\n",
        "#subtraction\n",
        "#multiplication\n",
        "#division\n",
        "#matrix multiplication"
      ]
    },
    {
      "cell_type": "code",
      "execution_count": 34,
      "metadata": {},
      "outputs": [
        {
          "data": {
            "text/plain": [
              "tensor([11, 12, 13])"
            ]
          },
          "execution_count": 34,
          "metadata": {},
          "output_type": "execute_result"
        }
      ],
      "source": [
        "#addition\n",
        "tensor= torch.tensor([1,2,3])\n",
        "tensor+10"
      ]
    },
    {
      "cell_type": "code",
      "execution_count": 35,
      "metadata": {},
      "outputs": [
        {
          "data": {
            "text/plain": [
              "tensor([[10, 20, 30],\n",
              "        [40, 50, 60]])"
            ]
          },
          "execution_count": 35,
          "metadata": {},
          "output_type": "execute_result"
        }
      ],
      "source": [
        "#multiplication\n",
        "tensor= torch.tensor([[1,2,3],[4,5,6]])\n",
        "tensor*10"
      ]
    },
    {
      "cell_type": "code",
      "execution_count": 42,
      "metadata": {},
      "outputs": [
        {
          "data": {
            "text/plain": [
              "tensor([-9, -8, -7])"
            ]
          },
          "execution_count": 42,
          "metadata": {},
          "output_type": "execute_result"
        }
      ],
      "source": [
        "#subtraction\n",
        "tensor= torch.tensor([1,2,3])\n",
        "tensor-10"
      ]
    },
    {
      "cell_type": "code",
      "execution_count": 43,
      "metadata": {},
      "outputs": [
        {
          "data": {
            "text/plain": [
              "tensor([[0.1000, 0.2000, 0.3000],\n",
              "        [0.4000, 0.5000, 0.6000]])"
            ]
          },
          "execution_count": 43,
          "metadata": {},
          "output_type": "execute_result"
        }
      ],
      "source": [
        "#division\n",
        "tensor= torch.tensor([[1,2,3],[4,5,6]])\n",
        "tensor/10"
      ]
    },
    {
      "cell_type": "code",
      "execution_count": 40,
      "metadata": {},
      "outputs": [
        {
          "data": {
            "text/plain": [
              "tensor([[ 58,  64],\n",
              "        [139, 154]])"
            ]
          },
          "execution_count": 40,
          "metadata": {},
          "output_type": "execute_result"
        }
      ],
      "source": [
        "#matrix multiplication\n",
        "tensor= torch.tensor([[1,2,3],[4,5,6]])\n",
        "tensor2= torch.tensor([[7,8],[9,10],[11,12]])\n",
        "torch.matmul(tensor,tensor2)"
      ]
    },
    {
      "cell_type": "code",
      "execution_count": null,
      "metadata": {},
      "outputs": [],
      "source": [
        "#trying out pytorch inbuilt functions\n",
        "\n",
        "torch.mul(tensor,10) #multiplication obvvvvvv\n",
        "torch.add(tensor,10) #addition obvvvvvv\n",
        "torch.div(tensor,10) #division obvvvvvv\n",
        "torch.sub(tensor,10) #subtraction obvvvvvv"
      ]
    },
    {
      "cell_type": "markdown",
      "metadata": {},
      "source": [
        "**Mainly 2 ways of performing multiplication in matrices in Deep learning**\n",
        "1. Matrix multiplcation (dot product )\n",
        "2. Element wise multiplication\n",
        "\n"
      ]
    },
    {
      "cell_type": "code",
      "execution_count": 44,
      "metadata": {},
      "outputs": [
        {
          "name": "stdout",
          "output_type": "stream",
          "text": [
            "tensor([1, 2, 3]) * tensor([1, 2, 3])\n",
            "tensor(14)\n"
          ]
        }
      ],
      "source": [
        "#element wise multiplication\n",
        "tensor=torch.tensor([1,2,3])\n",
        "print(tensor,\"*\", tensor)\n",
        "print(torch.matmul(tensor,tensor))"
      ]
    },
    {
      "cell_type": "code",
      "execution_count": 45,
      "metadata": {},
      "outputs": [
        {
          "name": "stdout",
          "output_type": "stream",
          "text": [
            "tensor(14)\n",
            "CPU times: user 1.11 ms, sys: 1.58 ms, total: 2.69 ms\n",
            "Wall time: 3.36 ms\n"
          ]
        }
      ],
      "source": [
        "%%time\n",
        "value=0\n",
        "for i in range(len(tensor)):\n",
        "  value+= tensor[i]*tensor[i]\n",
        "print(value)\n"
      ]
    },
    {
      "cell_type": "code",
      "execution_count": 47,
      "metadata": {},
      "outputs": [
        {
          "name": "stdout",
          "output_type": "stream",
          "text": [
            "CPU times: user 500 µs, sys: 131 µs, total: 631 µs\n",
            "Wall time: 628 µs\n"
          ]
        },
        {
          "data": {
            "text/plain": [
              "tensor(14)"
            ]
          },
          "execution_count": 47,
          "metadata": {},
          "output_type": "execute_result"
        }
      ],
      "source": [
        "%%time\n",
        "torch.matmul(tensor,tensor)"
      ]
    },
    {
      "cell_type": "code",
      "execution_count": 48,
      "metadata": {},
      "outputs": [
        {
          "data": {
            "text/plain": [
              "tensor(14)"
            ]
          },
          "execution_count": 48,
          "metadata": {},
          "output_type": "execute_result"
        }
      ],
      "source": [
        "# @ symbol can also be used for matrix multiplication\n",
        "tensor @ tensor"
      ]
    },
    {
      "cell_type": "code",
      "execution_count": 49,
      "metadata": {},
      "outputs": [
        {
          "ename": "RuntimeError",
          "evalue": "mat1 and mat2 shapes cannot be multiplied (3x2 and 3x2)",
          "output_type": "error",
          "traceback": [
            "\u001b[0;31m---------------------------------------------------------------------------\u001b[0m",
            "\u001b[0;31mRuntimeError\u001b[0m                              Traceback (most recent call last)",
            "Cell \u001b[0;32mIn[49], line 8\u001b[0m\n\u001b[1;32m      2\u001b[0m tensorA\u001b[38;5;241m=\u001b[39m torch\u001b[38;5;241m.\u001b[39mtensor([[\u001b[38;5;241m1\u001b[39m,\u001b[38;5;241m2\u001b[39m],\n\u001b[1;32m      3\u001b[0m                        [\u001b[38;5;241m3\u001b[39m,\u001b[38;5;241m4\u001b[39m],\n\u001b[1;32m      4\u001b[0m                        [\u001b[38;5;241m5\u001b[39m,\u001b[38;5;241m6\u001b[39m]])\n\u001b[1;32m      5\u001b[0m tensorB\u001b[38;5;241m=\u001b[39m torch\u001b[38;5;241m.\u001b[39mtensor([[\u001b[38;5;241m7\u001b[39m,\u001b[38;5;241m10\u001b[39m],\n\u001b[1;32m      6\u001b[0m                        [\u001b[38;5;241m8\u001b[39m,\u001b[38;5;241m11\u001b[39m],\n\u001b[1;32m      7\u001b[0m                        [\u001b[38;5;241m9\u001b[39m,\u001b[38;5;241m12\u001b[39m]])\n\u001b[0;32m----> 8\u001b[0m \u001b[43mtorch\u001b[49m\u001b[38;5;241;43m.\u001b[39;49m\u001b[43mmm\u001b[49m\u001b[43m(\u001b[49m\u001b[43mtensorA\u001b[49m\u001b[43m,\u001b[49m\u001b[43mtensorB\u001b[49m\u001b[43m)\u001b[49m \u001b[38;5;66;03m#torch.mm() is the same as torch.matmul()\u001b[39;00m\n",
            "\u001b[0;31mRuntimeError\u001b[0m: mat1 and mat2 shapes cannot be multiplied (3x2 and 3x2)"
          ]
        }
      ],
      "source": [
        "#shapes for matrix multiplication\n",
        "tensorA= torch.tensor([[1,2],\n",
        "                       [3,4],\n",
        "                       [5,6]])\n",
        "tensorB= torch.tensor([[7,10],\n",
        "                       [8,11],\n",
        "                       [9,12]])\n",
        "torch.mm(tensorA,tensorB) #torch.mm() is the same as torch.matmul()\n",
        "\n"
      ]
    },
    {
      "cell_type": "code",
      "execution_count": 55,
      "metadata": {},
      "outputs": [
        {
          "data": {
            "text/plain": [
              "tensor([[ 27,  30,  33],\n",
              "        [ 61,  68,  75],\n",
              "        [ 95, 106, 117]])"
            ]
          },
          "execution_count": 55,
          "metadata": {},
          "output_type": "execute_result"
        }
      ],
      "source": [
        "#last cell, there was an error as the m x n and n x m rule wasn't met\n",
        "#in order to change that we have to transpose one of the tensors since both is in n x m shape\n",
        "# a transpose switches the rows and columns of a tensor or the axes of a tensor in layman's term\n",
        "\n",
        "#transposing tensorB\n",
        "\n",
        "tensorC= tensorB.T\n",
        "\n",
        "tensorAnswer= torch.mm(tensorA,tensorC) # or can be written as (tensorA,tensorB.T)\n",
        "tensorAnswer"
      ]
    }
  ],
  "metadata": {
    "colab": {
      "gpuType": "T4",
      "provenance": []
    },
    "kernelspec": {
      "display_name": "Python 3",
      "name": "python3"
    },
    "language_info": {
      "codemirror_mode": {
        "name": "ipython",
        "version": 3
      },
      "file_extension": ".py",
      "mimetype": "text/x-python",
      "name": "python",
      "nbconvert_exporter": "python",
      "pygments_lexer": "ipython3",
      "version": "3.9.6"
    }
  },
  "nbformat": 4,
  "nbformat_minor": 0
}
